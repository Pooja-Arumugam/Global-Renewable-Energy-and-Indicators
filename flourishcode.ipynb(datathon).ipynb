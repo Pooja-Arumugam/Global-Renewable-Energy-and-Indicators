{
  "nbformat": 4,
  "nbformat_minor": 0,
  "metadata": {
    "colab": {
      "provenance": []
    },
    "kernelspec": {
      "name": "python3",
      "display_name": "Python 3"
    },
    "language_info": {
      "name": "python"
    }
  },
  "cells": [
    {
      "cell_type": "code",
      "execution_count": 1,
      "metadata": {
        "id": "oSTY1YHmG7U4"
      },
      "outputs": [],
      "source": [
        "import pandas as pd\n",
        "import numpy as np\n",
        "import matplotlib.pyplot as plt\n",
        "from sklearn.preprocessing import MinMaxScaler\n",
        "import seaborn as sns"
      ]
    },
    {
      "cell_type": "code",
      "source": [
        "from google.colab import drive\n",
        "drive.mount('/content/drive')"
      ],
      "metadata": {
        "colab": {
          "base_uri": "https://localhost:8080/"
        },
        "id": "l_glL5XNG9DF",
        "outputId": "1a6f6906-da0f-458d-fb5b-bb4b5ce3de4b"
      },
      "execution_count": 2,
      "outputs": [
        {
          "output_type": "stream",
          "name": "stdout",
          "text": [
            "Drive already mounted at /content/drive; to attempt to forcibly remount, call drive.mount(\"/content/drive\", force_remount=True).\n"
          ]
        }
      ]
    },
    {
      "cell_type": "code",
      "source": [
        "df = pd.read_csv('/content/drive/MyDrive/datathon/cleaned_renewable_energy_dataset.csv')"
      ],
      "metadata": {
        "id": "rX6bLfuHG_bd"
      },
      "execution_count": 4,
      "outputs": []
    },
    {
      "cell_type": "code",
      "source": [
        "\n",
        "\n",
        "# Select relevant columns for the bubble chart\n",
        "bubble_chart_df = df[['Country', 'Year', 'Energy Type', 'Investments (USD)',\n",
        "                      'Production (GWh)', 'Installed Capacity (MW)']]\n",
        "\n",
        "# Rename columns for clarity in Flourish\n",
        "bubble_chart_df.rename(columns={\n",
        "    'Investments (USD)': 'Investments_USD',\n",
        "    'Production (GWh)': 'Production_GWh',\n",
        "    'Installed Capacity (MW)': 'Installed_Capacity_MW'\n",
        "}, inplace=True)\n",
        "\n",
        "# Save the cleaned dataset for Flourish\n",
        "bubble_chart_file = \"bubble_chart_data.csv\"\n",
        "bubble_chart_df.to_csv(bubble_chart_file, index=False)\n",
        "\n",
        "print(f\"Cleaned dataset saved as {bubble_chart_file}\")\n"
      ],
      "metadata": {
        "colab": {
          "base_uri": "https://localhost:8080/"
        },
        "id": "b9ahDUXyHfmD",
        "outputId": "b5e43ae7-60ed-4fb1-93c3-03f67e762145"
      },
      "execution_count": 5,
      "outputs": [
        {
          "output_type": "stream",
          "name": "stdout",
          "text": [
            "Cleaned dataset saved as bubble_chart_data.csv\n"
          ]
        },
        {
          "output_type": "stream",
          "name": "stderr",
          "text": [
            "/tmp/ipython-input-5-1767280113.py:6: SettingWithCopyWarning: \n",
            "A value is trying to be set on a copy of a slice from a DataFrame\n",
            "\n",
            "See the caveats in the documentation: https://pandas.pydata.org/pandas-docs/stable/user_guide/indexing.html#returning-a-view-versus-a-copy\n",
            "  bubble_chart_df.rename(columns={\n"
          ]
        }
      ]
    },
    {
      "cell_type": "code",
      "source": [
        "# Select relevant columns for the packed circles chart\n",
        "packed_circles_df = df[['Country', 'Year', 'Energy Type', 'Investments (USD)', 'Production (GWh)']]\n",
        "\n",
        "# Rename columns for clarity in Flourish\n",
        "packed_circles_df.rename(columns={\n",
        "    'Investments (USD)': 'Bubble_Size',\n",
        "    'Production (GWh)': 'Tooltip_Production_GWh'\n",
        "}, inplace=True)\n",
        "\n",
        "# Save the cleaned dataset for Flourish\n",
        "packed_circles_file = \"packed_circles_data.csv\"\n",
        "packed_circles_df.to_csv(packed_circles_file, index=False)\n",
        "\n",
        "print(f\"Cleaned dataset saved as {packed_circles_file}\")"
      ],
      "metadata": {
        "colab": {
          "base_uri": "https://localhost:8080/"
        },
        "id": "YUWD4ScdHigV",
        "outputId": "ebd9064a-65ae-43be-e7b3-68493b856fa4"
      },
      "execution_count": null,
      "outputs": [
        {
          "output_type": "stream",
          "name": "stdout",
          "text": [
            "Cleaned dataset saved as packed_circles_data.csv\n"
          ]
        },
        {
          "output_type": "stream",
          "name": "stderr",
          "text": [
            "<ipython-input-8-e0661fae590a>:5: SettingWithCopyWarning: \n",
            "A value is trying to be set on a copy of a slice from a DataFrame\n",
            "\n",
            "See the caveats in the documentation: https://pandas.pydata.org/pandas-docs/stable/user_guide/indexing.html#returning-a-view-versus-a-copy\n",
            "  packed_circles_df.rename(columns={\n"
          ]
        }
      ]
    },
    {
      "cell_type": "code",
      "source": [
        "# Prepare dataset for Energy Exports race chart\n",
        "exports_df = df[['Year', 'Country', 'Energy Exports']]  # Adjust column name if necessary\n",
        "\n",
        "# Rename columns for clarity\n",
        "exports_df.rename(columns={\n",
        "    'Energy Exports (GWh)': 'Energy_Exports_GWh'\n",
        "}, inplace=True)\n",
        "\n",
        "# Save cleaned dataset for Energy Exports\n",
        "exports_file = \"exports_race_chart_data.csv\"\n",
        "exports_df.to_csv(exports_file, index=False)\n",
        "\n",
        "\n"
      ],
      "metadata": {
        "colab": {
          "base_uri": "https://localhost:8080/"
        },
        "id": "myz7XupDIBu2",
        "outputId": "a5aef675-e19a-47a1-cca9-f37e000db3a1"
      },
      "execution_count": null,
      "outputs": [
        {
          "output_type": "stream",
          "name": "stderr",
          "text": [
            "<ipython-input-12-502db8da20fc>:5: SettingWithCopyWarning: \n",
            "A value is trying to be set on a copy of a slice from a DataFrame\n",
            "\n",
            "See the caveats in the documentation: https://pandas.pydata.org/pandas-docs/stable/user_guide/indexing.html#returning-a-view-versus-a-copy\n",
            "  exports_df.rename(columns={\n"
          ]
        }
      ]
    },
    {
      "cell_type": "code",
      "source": [
        "# Aggregate the data to handle duplicates (summation for Energy Exports)\n",
        "exports_aggregated_df = exports_df.groupby(['Country', 'Year'], as_index=False)['Energy Exports'].sum()\n",
        "\n",
        "# Pivot the aggregated data\n",
        "exports_pivot_df = exports_aggregated_df.pivot(index='Country', columns='Year', values='Energy Exports')\n",
        "\n",
        "# Reset the index so that \"Country\" becomes a column again\n",
        "exports_pivot_df.reset_index(inplace=True)\n",
        "\n",
        "# Save the reshaped dataset for Energy Exports\n",
        "exports_pivot_file = \"exports_race_chart_data_wide.csv\"\n",
        "exports_pivot_df.to_csv(exports_pivot_file, index=False)\n",
        "\n",
        "\n"
      ],
      "metadata": {
        "id": "scdbxCuCRNoc"
      },
      "execution_count": null,
      "outputs": []
    },
    {
      "cell_type": "code",
      "source": [
        "# Reshape the data for Energy Imports (Wide format, where each year is a column)\n",
        "imports_df = df[['Year', 'Country', 'Energy Imports']]  # Adjust column name if necessary\n",
        "\n",
        "# Aggregate the data to handle duplicates (summation for Energy Imports)\n",
        "imports_aggregated_df = imports_df.groupby(['Country', 'Year'], as_index=False)['Energy Imports'].sum()\n",
        "\n",
        "# Pivot the aggregated data to have each year as a separate column\n",
        "imports_pivot_df = imports_aggregated_df.pivot(index='Country', columns='Year', values='Energy Imports')\n",
        "\n",
        "# Reset the index so that \"Country\" becomes a column again\n",
        "imports_pivot_df.reset_index(inplace=True)\n",
        "\n",
        "# Save the reshaped dataset for Energy Imports\n",
        "imports_pivot_file = \"imports_race_chart_data_wide.csv\"\n",
        "imports_pivot_df.to_csv(imports_pivot_file, index=False)\n",
        "\n"
      ],
      "metadata": {
        "id": "VafL53EySkWU"
      },
      "execution_count": null,
      "outputs": []
    },
    {
      "cell_type": "code",
      "source": [
        "# Select columns R-Z from the dataframe\n",
        "# Assuming columns R to Z are from index 17 onwards (adjust this to your specific case)\n",
        "tree_map_columns = df.columns[17:]  # Adjust this range if necessary\n",
        "\n",
        "# Subset the dataframe for these columns and keep 'Country' and 'Year'\n",
        "tree_map_df = df[['Country', 'Year'] + list(tree_map_columns)]\n",
        "\n",
        "# Pivot the data so that each metric (from R-Z) gets its own column per country\n",
        "pivot_df = tree_map_df.set_index(['Country', 'Year'])[tree_map_columns]\n",
        "\n",
        "# Reset the index to have 'Country' and 'Year' as columns again\n",
        "pivot_df.reset_index(inplace=True)\n",
        "\n",
        "# Save the reshaped dataset\n",
        "tree_map_file = \"tree_map_r_to_z_pivoted.csv\"\n",
        "pivot_df.to_csv(tree_map_file, index=False)\n",
        "\n"
      ],
      "metadata": {
        "id": "_lhCrAzxXFvw"
      },
      "execution_count": null,
      "outputs": []
    },
    {
      "cell_type": "code",
      "source": [
        "import pandas as pd\n",
        "\n",
        "# Define the energy type column (assuming we're only dealing with geothermal)\n",
        "energy_type = 'Geothermal'\n",
        "\n",
        "# Select unique country names\n",
        "geothermal_df = df[['Country']].drop_duplicates()\n",
        "\n",
        "# Add an 'Energy Type' column with 'Geothermal' for all rows\n",
        "geothermal_df['Energy Type'] = energy_type\n",
        "\n",
        "# Save the dataset in CSV format for Flourish\n",
        "geothermal_country_file = \"geothermal_country_energy_type.csv\"\n",
        "geothermal_df.to_csv(geothermal_country_file, index=False)\n",
        "\n",
        "# Provide the file path for download\n",
        "geothermal_country_file\n"
      ],
      "metadata": {
        "colab": {
          "base_uri": "https://localhost:8080/",
          "height": 36
        },
        "id": "KY9Xa_ZDaH9Z",
        "outputId": "619fc266-d134-4f5e-fbe7-1959bc2b0da6"
      },
      "execution_count": null,
      "outputs": [
        {
          "output_type": "execute_result",
          "data": {
            "text/plain": [
              "'geothermal_country_energy_type.csv'"
            ],
            "application/vnd.google.colaboratory.intrinsic+json": {
              "type": "string"
            }
          },
          "metadata": {},
          "execution_count": 34
        }
      ]
    },
    {
      "cell_type": "code",
      "source": [],
      "metadata": {
        "id": "0c1jG9TTgldR"
      },
      "execution_count": null,
      "outputs": []
    }
  ]
}